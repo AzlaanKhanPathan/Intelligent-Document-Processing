{
 "cells": [
  {
   "cell_type": "code",
   "execution_count": null,
   "metadata": {},
   "outputs": [],
   "source": [
    "pip install boto3 langchain langchain-pinecone"
   ]
  },
  {
   "cell_type": "code",
   "execution_count": null,
   "metadata": {},
   "outputs": [],
   "source": [
    "import boto3\n",
    "client = boto3.client('textract',aws_access_key_id='',aws_secret_access_key='',region_name='')\n",
    "response = client.detect_document_text(\n",
    "    Document={\n",
    "        'S3Object': {\n",
    "            'Bucket': 'documentpark1',\n",
    "            'Name': 'Apollo-11-Mission.jpeg'\n",
    "        }\n",
    "    }\n",
    ")\n",
    "response"
   ]
  },
  {
   "cell_type": "code",
   "execution_count": null,
   "metadata": {},
   "outputs": [],
   "source": [
    "output_file_name = 'demo_rag_on_image.txt'"
   ]
  },
  {
   "cell_type": "code",
   "execution_count": null,
   "metadata": {},
   "outputs": [],
   "source": [
    "with open(output_file_name, 'w') as output_file_io:\n",
    "  for x in response['Blocks']:\n",
    "    if x['BlockType'] == 'LINE':\n",
    "      output_file_io.write(x[\"Text\"]+'\\n')\n"
   ]
  },
  {
   "cell_type": "code",
   "execution_count": null,
   "metadata": {},
   "outputs": [],
   "source": [
    "import os\n",
    "import json\n",
    "boto3_bedrock = boto3.client('bedrock-runtime',region_name='us-east-1',aws_access_key_id='',aws_secret_access_key='',)"
   ]
  },
  {
   "cell_type": "code",
   "execution_count": null,
   "metadata": {},
   "outputs": [],
   "source": [
    "from langchain.docstore.document import Document\n",
    "from langchain.document_loaders import TextLoader\n",
    "from langchain.embeddings import BedrockEmbeddings\n",
    "from langchain.text_splitter import CharacterTextSplitter"
   ]
  },
  {
   "cell_type": "code",
   "execution_count": null,
   "metadata": {},
   "outputs": [],
   "source": [
    "# load the sagemaker FAQ list\n",
    "with open('/content/demo_rag_on_image.txt') as f:\n",
    "    doc = f.read()\n",
    "\n",
    "# create a loader\n",
    "docs = []\n",
    "loader = TextLoader('')\n",
    "docs.append(Document(page_content=doc))\n",
    "\n",
    "# split documents into chunks\n",
    "text_splitter = CharacterTextSplitter(\n",
    "    separator='\\n',\n",
    "    chunk_size=300,\n",
    "    chunk_overlap=25,\n",
    "\n",
    ")\n",
    "split_docs = text_splitter.split_documents(docs)"
   ]
  },
  {
   "cell_type": "code",
   "execution_count": null,
   "metadata": {},
   "outputs": [],
   "source": [
    "split_docs"
   ]
  },
  {
   "cell_type": "code",
   "execution_count": null,
   "metadata": {},
   "outputs": [],
   "source": [
    "os.environ['PINECONE_API_KEY'] = ''"
   ]
  },
  {
   "cell_type": "code",
   "execution_count": null,
   "metadata": {},
   "outputs": [],
   "source": [
    "embedding_model = BedrockEmbeddings(\n",
    "    client=boto3_bedrock,\n",
    "    model_id=\"amazon.titan-embed-text-v1\"\n",
    ")\n",
    "from langchain_pinecone import PineconeVectorStore\n",
    "\n",
    "index_name = \"samplevttextract\"\n",
    "\n",
    "docsearch = PineconeVectorStore.from_documents(split_docs, embedding_model, index_name=index_name)"
   ]
  },
  {
   "cell_type": "code",
   "execution_count": null,
   "metadata": {},
   "outputs": [],
   "source": [
    "\n",
    "from langchain import PromptTemplate\n",
    "\n",
    "RAG_PROMPT_TEMPLATE = '''Here is some important context which can help inform the questions the Human asks.\n",
    "Make sure to not make anything up to answer the question if it is not provided in the context.\n",
    "\n",
    "\n",
    "{context}\n",
    "\n",
    "\n",
    "Human: {human_input}\n",
    "\n",
    "Assistant:\n",
    "'''\n",
    "PROMPT = PromptTemplate.from_template(RAG_PROMPT_TEMPLATE)"
   ]
  },
  {
   "cell_type": "code",
   "execution_count": null,
   "metadata": {},
   "outputs": [],
   "source": [
    "from langchain.vectorstores import Pinecone\n",
    "existing_search = Pinecone.from_existing_index(index_name=index_name, embedding=embedding_model)"
   ]
  },
  {
   "cell_type": "code",
   "execution_count": null,
   "metadata": {},
   "outputs": [],
   "source": [
    "human_input = input(\"Enter your question : \")\n",
    "search_results = existing_search.similarity_search(human_input, k=3)\n",
    "context_string = '\\n\\n'.join([f'Document {ind+1}: ' + i.page_content for ind, i in enumerate(search_results)])\n",
    "prompt_data = PROMPT.format(human_input=human_input, context=context_string)\n",
    "inputText=prompt_data\n",
    "body_part=json.dumps({'inputText': inputText,\n",
    " 'textGenerationConfig': {'maxTokenCount': 8192,\n",
    "  'stopSequences': [],\n",
    "  'temperature': 0,\n",
    "  'topP': 1}})\n",
    "response = boto3_bedrock.invoke_model(\n",
    "    body=body_part,\n",
    "    contentType=\"application/json\",\n",
    "    accept=\"application/json\",\n",
    "    modelId='amazon.titan-text-express-v1'\n",
    ")\n",
    "output_text=json.loads(response['body'].read())['results'][0]['outputText']\n",
    "output_text"
   ]
  }
 ],
 "metadata": {
  "kernelspec": {
   "display_name": "Python 3",
   "language": "python",
   "name": "python3"
  },
  "language_info": {
   "codemirror_mode": {
    "name": "ipython",
    "version": 3
   },
   "file_extension": ".py",
   "mimetype": "text/x-python",
   "name": "python",
   "nbconvert_exporter": "python",
   "pygments_lexer": "ipython3",
   "version": "3.12.0"
  }
 },
 "nbformat": 4,
 "nbformat_minor": 2
}
